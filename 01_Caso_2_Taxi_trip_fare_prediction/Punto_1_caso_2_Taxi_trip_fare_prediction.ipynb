{
  "cells": [
    {
      "cell_type": "markdown",
      "metadata": {
        "id": "view-in-github",
        "colab_type": "text"
      },
      "source": [
        "<a href=\"https://colab.research.google.com/github/Nathalia-Prada/Sinergia_Bootcamp/blob/main/01_Caso_2_Taxi_trip_fare_prediction/Punto_1_caso_2_Taxi_trip_fare_prediction.ipynb\" target=\"_parent\"><img src=\"https://colab.research.google.com/assets/colab-badge.svg\" alt=\"Open In Colab\"/></a>"
      ]
    },
    {
      "cell_type": "markdown",
      "metadata": {
        "id": "i2r6WP25Fjwb"
      },
      "source": [
        "# Punto 1\n",
        "1.\tDespliegue de modelos de clasificación y regresión utilizando Scikit-Learn, XGBoost y Redes Neuronales\n",
        "\n",
        "# Caso 2\n",
        "# Taxi trip fare prediction\n",
        "\n",
        "\n",
        "### 2024.11.12\n",
        "\n",
        "\n",
        "- En estos modelos de clasificación y regresión es importante desplegar métodos de hiperparámetros como Grid Search y Random Search\n",
        "- Es importante realizar un preprocesamiento de los datos y un análisis exploratorio de los datos (al menos 5 visualizaciones claves de cada caso de estudio)\n",
        "- Para cumplir el punto debe desplegar dos modelos de machine learning (ya sea para clasificación o regresión), uno de redes neuronales y uno de xgboost para cada caso de estudio.\n"
      ]
    },
    {
      "cell_type": "markdown",
      "metadata": {
        "id": "grvockn7zTyr"
      },
      "source": [
        "## Download the dataframe from Kaggle\n",
        "Install the kaggle python library"
      ]
    },
    {
      "cell_type": "code",
      "execution_count": 1,
      "metadata": {
        "colab": {
          "base_uri": "https://localhost:8080/"
        },
        "id": "ydJI0880KFzm",
        "outputId": "4d44de1d-828e-4c84-be76-df8db3223229"
      },
      "outputs": [
        {
          "output_type": "stream",
          "name": "stdout",
          "text": [
            "Requirement already satisfied: kaggle in /usr/local/lib/python3.10/dist-packages (1.6.17)\n",
            "Requirement already satisfied: six>=1.10 in /usr/local/lib/python3.10/dist-packages (from kaggle) (1.16.0)\n",
            "Requirement already satisfied: certifi>=2023.7.22 in /usr/local/lib/python3.10/dist-packages (from kaggle) (2024.8.30)\n",
            "Requirement already satisfied: python-dateutil in /usr/local/lib/python3.10/dist-packages (from kaggle) (2.8.2)\n",
            "Requirement already satisfied: requests in /usr/local/lib/python3.10/dist-packages (from kaggle) (2.32.3)\n",
            "Requirement already satisfied: tqdm in /usr/local/lib/python3.10/dist-packages (from kaggle) (4.66.5)\n",
            "Requirement already satisfied: python-slugify in /usr/local/lib/python3.10/dist-packages (from kaggle) (8.0.4)\n",
            "Requirement already satisfied: urllib3 in /usr/local/lib/python3.10/dist-packages (from kaggle) (2.2.3)\n",
            "Requirement already satisfied: bleach in /usr/local/lib/python3.10/dist-packages (from kaggle) (6.1.0)\n",
            "Requirement already satisfied: webencodings in /usr/local/lib/python3.10/dist-packages (from bleach->kaggle) (0.5.1)\n",
            "Requirement already satisfied: text-unidecode>=1.3 in /usr/local/lib/python3.10/dist-packages (from python-slugify->kaggle) (1.3)\n",
            "Requirement already satisfied: charset-normalizer<4,>=2 in /usr/local/lib/python3.10/dist-packages (from requests->kaggle) (3.4.0)\n",
            "Requirement already satisfied: idna<4,>=2.5 in /usr/local/lib/python3.10/dist-packages (from requests->kaggle) (3.10)\n"
          ]
        }
      ],
      "source": [
        "!pip install --user kaggle"
      ]
    },
    {
      "cell_type": "markdown",
      "metadata": {
        "id": "8xuO0uXdzVrb"
      },
      "source": [
        "Mount the Google drive so you can store your kaggle API credentials for future use"
      ]
    },
    {
      "cell_type": "code",
      "execution_count": 2,
      "metadata": {
        "colab": {
          "base_uri": "https://localhost:8080/"
        },
        "id": "jpP2955Akbps",
        "outputId": "35e5d102-c58e-4a95-9f49-1616ec632ba9"
      },
      "outputs": [
        {
          "output_type": "stream",
          "name": "stdout",
          "text": [
            "Mounted at /content/drive\n"
          ]
        }
      ],
      "source": [
        "from google.colab import drive\n",
        "drive.mount('/content/drive')"
      ]
    },
    {
      "cell_type": "code",
      "source": [
        "\n",
        "import os\n",
        "\n",
        "# Define the dataset file path\n",
        "# Este es el nombre del file que estamos explorando en kaggle:\n",
        "FILE = \"raviiloveyou/predict-taxi-fare-with-a-bigquery-ml-forecasting\""
      ],
      "metadata": {
        "id": "kEQNS9IT6cyS"
      },
      "execution_count": 3,
      "outputs": []
    },
    {
      "cell_type": "markdown",
      "metadata": {
        "id": "b3B4WJwVza75"
      },
      "source": [
        "Make a directory for kaggle at the temporary instance location on Colab drive.\n",
        "\n",
        "Download your kaggle API key (.json file). You can do this by going to your kaggle account page and clicking 'Create new API token' under the API section."
      ]
    },
    {
      "cell_type": "code",
      "execution_count": 4,
      "metadata": {
        "id": "aiJiiZfH0LyJ"
      },
      "outputs": [],
      "source": [
        "! mkdir ~/.kaggle"
      ]
    },
    {
      "cell_type": "markdown",
      "metadata": {
        "id": "Xq5utT9b0voq"
      },
      "source": [
        "Upload the json file to Google Drive and then copy to the temporary location."
      ]
    },
    {
      "cell_type": "code",
      "execution_count": 5,
      "metadata": {
        "id": "yJAgHSguxUdz"
      },
      "outputs": [],
      "source": [
        "!cp /content/drive/MyDrive/Bootcamp/kaggle.json ~/.kaggle/kaggle.json"
      ]
    },
    {
      "cell_type": "markdown",
      "metadata": {
        "id": "KH672CzP1anI"
      },
      "source": [
        "Change the file permissions to read/write to the owner only"
      ]
    },
    {
      "cell_type": "code",
      "execution_count": 6,
      "metadata": {
        "id": "Q6h-RAiM1fMl"
      },
      "outputs": [],
      "source": [
        "! chmod 600 ~/.kaggle/kaggle.json"
      ]
    },
    {
      "cell_type": "markdown",
      "metadata": {
        "id": "eN9ZWJJa2t7S"
      },
      "source": [
        "### Competitions and Datasets are the two types of Kaggle data\n",
        "\n",
        "####1. Download competition data\n",
        "\n",
        "If you get 403 Forbidden error, you need to click 'Late Submission' on the Kaggle page for that competition."
      ]
    },
    {
      "cell_type": "code",
      "source": [
        "#! kaggle competitions download -c air-heart-disease"
      ],
      "metadata": {
        "id": "lNKTx1rSUvJ3"
      },
      "execution_count": 7,
      "outputs": []
    },
    {
      "cell_type": "markdown",
      "source": [
        "To downloaad specific files, instead of the entire data set"
      ],
      "metadata": {
        "id": "kwVSd6_rXJ-k"
      }
    },
    {
      "cell_type": "code",
      "source": [
        "\n",
        "#! kaggle competitions download digit-recognizer -f train.csv"
      ],
      "metadata": {
        "id": "LqOc8nDMXHXa"
      },
      "execution_count": 8,
      "outputs": []
    },
    {
      "cell_type": "markdown",
      "source": [
        "#### 2. Download datasets (that are not part of competition)\n",
        "\n",
        "> Add blockquote\n",
        "\n"
      ],
      "metadata": {
        "id": "6YC1zvw3Wcv6"
      }
    },
    {
      "cell_type": "markdown",
      "source": [],
      "metadata": {
        "id": "rQQ_VGxrWZ4D"
      }
    },
    {
      "cell_type": "code",
      "execution_count": 9,
      "metadata": {
        "colab": {
          "base_uri": "https://localhost:8080/"
        },
        "id": "y8XyON7r2zpp",
        "outputId": "4dec20b4-fa3a-4506-f0f7-aa91f1cce4bd"
      },
      "outputs": [
        {
          "output_type": "stream",
          "name": "stdout",
          "text": [
            "Dataset URL: https://www.kaggle.com/datasets/raviiloveyou/predict-taxi-fare-with-a-bigquery-ml-forecasting\n",
            "License(s): CC0-1.0\n",
            "Downloading predict-taxi-fare-with-a-bigquery-ml-forecasting.zip to /content\n",
            "  0% 0.00/2.88M [00:00<?, ?B/s]\n",
            "100% 2.88M/2.88M [00:00<00:00, 75.3MB/s]\n"
          ]
        }
      ],
      "source": [
        "!kaggle datasets download -d $FILE"
      ]
    },
    {
      "cell_type": "markdown",
      "source": [
        "#### 3. Unzip files if required"
      ],
      "metadata": {
        "id": "NMxMWSNRX3I5"
      }
    },
    {
      "cell_type": "code",
      "source": [
        "# Find the most recent file in the directory (assuming it is the downloaded file)\n",
        "import glob\n",
        "import zipfile\n",
        "\n",
        "# Find the most recent file in the directory (assuming it is the downloaded file)\n",
        "downloaded_files = glob.glob(\"*.zip\")  # Looks for zip files in the current directory\n",
        "if downloaded_files:\n",
        "    latest_file = max(downloaded_files, key=os.path.getctime)  # Get the most recent file\n",
        "    print(f\"Downloaded file: {latest_file}\")\n",
        "\n",
        "    # Check if it's a zip file and unzip it\n",
        "    if zipfile.is_zipfile(latest_file):\n",
        "        print(f\"Unzipping {latest_file}...\")\n",
        "        with zipfile.ZipFile(latest_file, 'r') as zip_ref:\n",
        "            zip_ref.extractall()  # Extract to the current directory\n",
        "        print(f\"{latest_file} unzipped successfully.\")\n",
        "        !rm *.zip\n",
        "    else:\n",
        "        print(f\"{latest_file} is not a zip file.\")\n",
        "else:\n",
        "    print(\"No zip file found.\")"
      ],
      "metadata": {
        "colab": {
          "base_uri": "https://localhost:8080/"
        },
        "id": "_SDvZjHcE-Ae",
        "outputId": "72f2aec7-f793-445f-9202-78f77251e3ce"
      },
      "execution_count": 10,
      "outputs": [
        {
          "output_type": "stream",
          "name": "stdout",
          "text": [
            "Downloaded file: predict-taxi-fare-with-a-bigquery-ml-forecasting.zip\n",
            "Unzipping predict-taxi-fare-with-a-bigquery-ml-forecasting.zip...\n",
            "predict-taxi-fare-with-a-bigquery-ml-forecasting.zip unzipped successfully.\n"
          ]
        }
      ]
    },
    {
      "cell_type": "markdown",
      "source": [
        "#### 4. Load the CSV dataset in a Pandas Dataframe"
      ],
      "metadata": {
        "id": "ZdNOgmt-YjlR"
      }
    },
    {
      "cell_type": "code",
      "source": [
        "import pandas as pd\n",
        "import glob\n",
        "\n",
        "# Find all CSV files in the current directory and subdirectories\n",
        "csv_files = glob.glob('**/train.csv', recursive=True)\n",
        "\n",
        "# Check if train.csv file was found\n",
        "if csv_files:\n",
        "    # Load the first found train.csv file into a DataFrame\n",
        "    df = pd.read_csv(csv_files[0])\n",
        "\n",
        "    # Display the info of the DataFrame\n",
        "    print(f\"DataFrame loaded from: {csv_files[0]}\")\n",
        "    print(df.info())\n",
        "else:\n",
        "    print(\"No CSV files found in the current directory.\")"
      ],
      "metadata": {
        "colab": {
          "base_uri": "https://localhost:8080/"
        },
        "id": "tKqiHFmMMaa_",
        "outputId": "0018347e-9c72-4150-f2a9-1f7836e24c77"
      },
      "execution_count": 11,
      "outputs": [
        {
          "output_type": "stream",
          "name": "stdout",
          "text": [
            "DataFrame loaded from: taxi_fare/train.csv\n",
            "<class 'pandas.core.frame.DataFrame'>\n",
            "RangeIndex: 209673 entries, 0 to 209672\n",
            "Data columns (total 8 columns):\n",
            " #   Column              Non-Null Count   Dtype  \n",
            "---  ------              --------------   -----  \n",
            " 0   trip_duration       209673 non-null  float64\n",
            " 1   distance_traveled   209673 non-null  float64\n",
            " 2   num_of_passengers   209673 non-null  float64\n",
            " 3   fare                209673 non-null  float64\n",
            " 4   tip                 209673 non-null  int64  \n",
            " 5   miscellaneous_fees  209673 non-null  float64\n",
            " 6   total_fare          209673 non-null  float64\n",
            " 7   surge_applied       209673 non-null  int64  \n",
            "dtypes: float64(6), int64(2)\n",
            "memory usage: 12.8 MB\n",
            "None\n"
          ]
        }
      ]
    },
    {
      "cell_type": "code",
      "source": [
        "df.isnull().sum()"
      ],
      "metadata": {
        "colab": {
          "base_uri": "https://localhost:8080/",
          "height": 335
        },
        "id": "jzA-tWM-uN6f",
        "outputId": "6d9fc32d-8175-4a65-fc67-db3513a71fd9"
      },
      "execution_count": 12,
      "outputs": [
        {
          "output_type": "execute_result",
          "data": {
            "text/plain": [
              "trip_duration         0\n",
              "distance_traveled     0\n",
              "num_of_passengers     0\n",
              "fare                  0\n",
              "tip                   0\n",
              "miscellaneous_fees    0\n",
              "total_fare            0\n",
              "surge_applied         0\n",
              "dtype: int64"
            ],
            "text/html": [
              "<div>\n",
              "<style scoped>\n",
              "    .dataframe tbody tr th:only-of-type {\n",
              "        vertical-align: middle;\n",
              "    }\n",
              "\n",
              "    .dataframe tbody tr th {\n",
              "        vertical-align: top;\n",
              "    }\n",
              "\n",
              "    .dataframe thead th {\n",
              "        text-align: right;\n",
              "    }\n",
              "</style>\n",
              "<table border=\"1\" class=\"dataframe\">\n",
              "  <thead>\n",
              "    <tr style=\"text-align: right;\">\n",
              "      <th></th>\n",
              "      <th>0</th>\n",
              "    </tr>\n",
              "  </thead>\n",
              "  <tbody>\n",
              "    <tr>\n",
              "      <th>trip_duration</th>\n",
              "      <td>0</td>\n",
              "    </tr>\n",
              "    <tr>\n",
              "      <th>distance_traveled</th>\n",
              "      <td>0</td>\n",
              "    </tr>\n",
              "    <tr>\n",
              "      <th>num_of_passengers</th>\n",
              "      <td>0</td>\n",
              "    </tr>\n",
              "    <tr>\n",
              "      <th>fare</th>\n",
              "      <td>0</td>\n",
              "    </tr>\n",
              "    <tr>\n",
              "      <th>tip</th>\n",
              "      <td>0</td>\n",
              "    </tr>\n",
              "    <tr>\n",
              "      <th>miscellaneous_fees</th>\n",
              "      <td>0</td>\n",
              "    </tr>\n",
              "    <tr>\n",
              "      <th>total_fare</th>\n",
              "      <td>0</td>\n",
              "    </tr>\n",
              "    <tr>\n",
              "      <th>surge_applied</th>\n",
              "      <td>0</td>\n",
              "    </tr>\n",
              "  </tbody>\n",
              "</table>\n",
              "</div><br><label><b>dtype:</b> int64</label>"
            ]
          },
          "metadata": {},
          "execution_count": 12
        }
      ]
    },
    {
      "cell_type": "code",
      "source": [
        "# Percentage of missing values for each column\n",
        "missing_percentage = (df.isnull().sum() / len(df)) * 100\n",
        "\n",
        "# Display the result\n",
        "print(missing_percentage)"
      ],
      "metadata": {
        "id": "KMEmmn_q8gXp",
        "colab": {
          "base_uri": "https://localhost:8080/"
        },
        "outputId": "9982a8f5-ae3d-4b6f-bb7d-d62ce85a2624"
      },
      "execution_count": 13,
      "outputs": [
        {
          "output_type": "stream",
          "name": "stdout",
          "text": [
            "trip_duration         0.0\n",
            "distance_traveled     0.0\n",
            "num_of_passengers     0.0\n",
            "fare                  0.0\n",
            "tip                   0.0\n",
            "miscellaneous_fees    0.0\n",
            "total_fare            0.0\n",
            "surge_applied         0.0\n",
            "dtype: float64\n"
          ]
        }
      ]
    },
    {
      "cell_type": "markdown",
      "source": [
        "# Data Cleaning"
      ],
      "metadata": {
        "id": "IVc5e2knZRFi"
      }
    },
    {
      "cell_type": "code",
      "source": [
        "df.describe(include='all').T"
      ],
      "metadata": {
        "id": "ptq9pAHzQPd2",
        "colab": {
          "base_uri": "https://localhost:8080/",
          "height": 300
        },
        "outputId": "30b08ec9-9495-441d-e6c2-e755fa8e3e70"
      },
      "execution_count": 14,
      "outputs": [
        {
          "output_type": "execute_result",
          "data": {
            "text/plain": [
              "                       count         mean          std   min     25%     50%  \\\n",
              "trip_duration       209673.0  1173.181478  4775.653621  0.00  446.00  707.00   \n",
              "distance_traveled   209673.0     5.054431   125.217419  0.02    1.95    3.20   \n",
              "num_of_passengers   209673.0     1.292808     0.930754  0.00    1.00    1.00   \n",
              "fare                209673.0    99.623431    85.602702  0.00   52.50   75.00   \n",
              "tip                 209673.0    13.030824    20.367764  0.00    0.00    9.00   \n",
              "miscellaneous_fees  209673.0    15.136829    12.553436 -0.50    6.00    9.75   \n",
              "total_fare          209673.0   127.791084    98.797374  0.00   70.20  101.70   \n",
              "surge_applied       209673.0     0.280523     0.449256  0.00    0.00    0.00   \n",
              "\n",
              "                        75%       max  \n",
              "trip_duration       1098.00  86387.00  \n",
              "distance_traveled      5.73  57283.91  \n",
              "num_of_passengers      1.00      9.00  \n",
              "fare                 116.25   4466.25  \n",
              "tip                   20.00   2500.00  \n",
              "miscellaneous_fees    26.45    435.00  \n",
              "total_fare           152.25   4472.25  \n",
              "surge_applied          1.00      1.00  "
            ],
            "text/html": [
              "\n",
              "  <div id=\"df-2e82ccee-7b52-4a5a-a030-d93ade4bbe6e\" class=\"colab-df-container\">\n",
              "    <div>\n",
              "<style scoped>\n",
              "    .dataframe tbody tr th:only-of-type {\n",
              "        vertical-align: middle;\n",
              "    }\n",
              "\n",
              "    .dataframe tbody tr th {\n",
              "        vertical-align: top;\n",
              "    }\n",
              "\n",
              "    .dataframe thead th {\n",
              "        text-align: right;\n",
              "    }\n",
              "</style>\n",
              "<table border=\"1\" class=\"dataframe\">\n",
              "  <thead>\n",
              "    <tr style=\"text-align: right;\">\n",
              "      <th></th>\n",
              "      <th>count</th>\n",
              "      <th>mean</th>\n",
              "      <th>std</th>\n",
              "      <th>min</th>\n",
              "      <th>25%</th>\n",
              "      <th>50%</th>\n",
              "      <th>75%</th>\n",
              "      <th>max</th>\n",
              "    </tr>\n",
              "  </thead>\n",
              "  <tbody>\n",
              "    <tr>\n",
              "      <th>trip_duration</th>\n",
              "      <td>209673.0</td>\n",
              "      <td>1173.181478</td>\n",
              "      <td>4775.653621</td>\n",
              "      <td>0.00</td>\n",
              "      <td>446.00</td>\n",
              "      <td>707.00</td>\n",
              "      <td>1098.00</td>\n",
              "      <td>86387.00</td>\n",
              "    </tr>\n",
              "    <tr>\n",
              "      <th>distance_traveled</th>\n",
              "      <td>209673.0</td>\n",
              "      <td>5.054431</td>\n",
              "      <td>125.217419</td>\n",
              "      <td>0.02</td>\n",
              "      <td>1.95</td>\n",
              "      <td>3.20</td>\n",
              "      <td>5.73</td>\n",
              "      <td>57283.91</td>\n",
              "    </tr>\n",
              "    <tr>\n",
              "      <th>num_of_passengers</th>\n",
              "      <td>209673.0</td>\n",
              "      <td>1.292808</td>\n",
              "      <td>0.930754</td>\n",
              "      <td>0.00</td>\n",
              "      <td>1.00</td>\n",
              "      <td>1.00</td>\n",
              "      <td>1.00</td>\n",
              "      <td>9.00</td>\n",
              "    </tr>\n",
              "    <tr>\n",
              "      <th>fare</th>\n",
              "      <td>209673.0</td>\n",
              "      <td>99.623431</td>\n",
              "      <td>85.602702</td>\n",
              "      <td>0.00</td>\n",
              "      <td>52.50</td>\n",
              "      <td>75.00</td>\n",
              "      <td>116.25</td>\n",
              "      <td>4466.25</td>\n",
              "    </tr>\n",
              "    <tr>\n",
              "      <th>tip</th>\n",
              "      <td>209673.0</td>\n",
              "      <td>13.030824</td>\n",
              "      <td>20.367764</td>\n",
              "      <td>0.00</td>\n",
              "      <td>0.00</td>\n",
              "      <td>9.00</td>\n",
              "      <td>20.00</td>\n",
              "      <td>2500.00</td>\n",
              "    </tr>\n",
              "    <tr>\n",
              "      <th>miscellaneous_fees</th>\n",
              "      <td>209673.0</td>\n",
              "      <td>15.136829</td>\n",
              "      <td>12.553436</td>\n",
              "      <td>-0.50</td>\n",
              "      <td>6.00</td>\n",
              "      <td>9.75</td>\n",
              "      <td>26.45</td>\n",
              "      <td>435.00</td>\n",
              "    </tr>\n",
              "    <tr>\n",
              "      <th>total_fare</th>\n",
              "      <td>209673.0</td>\n",
              "      <td>127.791084</td>\n",
              "      <td>98.797374</td>\n",
              "      <td>0.00</td>\n",
              "      <td>70.20</td>\n",
              "      <td>101.70</td>\n",
              "      <td>152.25</td>\n",
              "      <td>4472.25</td>\n",
              "    </tr>\n",
              "    <tr>\n",
              "      <th>surge_applied</th>\n",
              "      <td>209673.0</td>\n",
              "      <td>0.280523</td>\n",
              "      <td>0.449256</td>\n",
              "      <td>0.00</td>\n",
              "      <td>0.00</td>\n",
              "      <td>0.00</td>\n",
              "      <td>1.00</td>\n",
              "      <td>1.00</td>\n",
              "    </tr>\n",
              "  </tbody>\n",
              "</table>\n",
              "</div>\n",
              "    <div class=\"colab-df-buttons\">\n",
              "\n",
              "  <div class=\"colab-df-container\">\n",
              "    <button class=\"colab-df-convert\" onclick=\"convertToInteractive('df-2e82ccee-7b52-4a5a-a030-d93ade4bbe6e')\"\n",
              "            title=\"Convert this dataframe to an interactive table.\"\n",
              "            style=\"display:none;\">\n",
              "\n",
              "  <svg xmlns=\"http://www.w3.org/2000/svg\" height=\"24px\" viewBox=\"0 -960 960 960\">\n",
              "    <path d=\"M120-120v-720h720v720H120Zm60-500h600v-160H180v160Zm220 220h160v-160H400v160Zm0 220h160v-160H400v160ZM180-400h160v-160H180v160Zm440 0h160v-160H620v160ZM180-180h160v-160H180v160Zm440 0h160v-160H620v160Z\"/>\n",
              "  </svg>\n",
              "    </button>\n",
              "\n",
              "  <style>\n",
              "    .colab-df-container {\n",
              "      display:flex;\n",
              "      gap: 12px;\n",
              "    }\n",
              "\n",
              "    .colab-df-convert {\n",
              "      background-color: #E8F0FE;\n",
              "      border: none;\n",
              "      border-radius: 50%;\n",
              "      cursor: pointer;\n",
              "      display: none;\n",
              "      fill: #1967D2;\n",
              "      height: 32px;\n",
              "      padding: 0 0 0 0;\n",
              "      width: 32px;\n",
              "    }\n",
              "\n",
              "    .colab-df-convert:hover {\n",
              "      background-color: #E2EBFA;\n",
              "      box-shadow: 0px 1px 2px rgba(60, 64, 67, 0.3), 0px 1px 3px 1px rgba(60, 64, 67, 0.15);\n",
              "      fill: #174EA6;\n",
              "    }\n",
              "\n",
              "    .colab-df-buttons div {\n",
              "      margin-bottom: 4px;\n",
              "    }\n",
              "\n",
              "    [theme=dark] .colab-df-convert {\n",
              "      background-color: #3B4455;\n",
              "      fill: #D2E3FC;\n",
              "    }\n",
              "\n",
              "    [theme=dark] .colab-df-convert:hover {\n",
              "      background-color: #434B5C;\n",
              "      box-shadow: 0px 1px 3px 1px rgba(0, 0, 0, 0.15);\n",
              "      filter: drop-shadow(0px 1px 2px rgba(0, 0, 0, 0.3));\n",
              "      fill: #FFFFFF;\n",
              "    }\n",
              "  </style>\n",
              "\n",
              "    <script>\n",
              "      const buttonEl =\n",
              "        document.querySelector('#df-2e82ccee-7b52-4a5a-a030-d93ade4bbe6e button.colab-df-convert');\n",
              "      buttonEl.style.display =\n",
              "        google.colab.kernel.accessAllowed ? 'block' : 'none';\n",
              "\n",
              "      async function convertToInteractive(key) {\n",
              "        const element = document.querySelector('#df-2e82ccee-7b52-4a5a-a030-d93ade4bbe6e');\n",
              "        const dataTable =\n",
              "          await google.colab.kernel.invokeFunction('convertToInteractive',\n",
              "                                                    [key], {});\n",
              "        if (!dataTable) return;\n",
              "\n",
              "        const docLinkHtml = 'Like what you see? Visit the ' +\n",
              "          '<a target=\"_blank\" href=https://colab.research.google.com/notebooks/data_table.ipynb>data table notebook</a>'\n",
              "          + ' to learn more about interactive tables.';\n",
              "        element.innerHTML = '';\n",
              "        dataTable['output_type'] = 'display_data';\n",
              "        await google.colab.output.renderOutput(dataTable, element);\n",
              "        const docLink = document.createElement('div');\n",
              "        docLink.innerHTML = docLinkHtml;\n",
              "        element.appendChild(docLink);\n",
              "      }\n",
              "    </script>\n",
              "  </div>\n",
              "\n",
              "\n",
              "<div id=\"df-2a06a924-13ed-4ee3-9ecc-e9fbc5fb0fbc\">\n",
              "  <button class=\"colab-df-quickchart\" onclick=\"quickchart('df-2a06a924-13ed-4ee3-9ecc-e9fbc5fb0fbc')\"\n",
              "            title=\"Suggest charts\"\n",
              "            style=\"display:none;\">\n",
              "\n",
              "<svg xmlns=\"http://www.w3.org/2000/svg\" height=\"24px\"viewBox=\"0 0 24 24\"\n",
              "     width=\"24px\">\n",
              "    <g>\n",
              "        <path d=\"M19 3H5c-1.1 0-2 .9-2 2v14c0 1.1.9 2 2 2h14c1.1 0 2-.9 2-2V5c0-1.1-.9-2-2-2zM9 17H7v-7h2v7zm4 0h-2V7h2v10zm4 0h-2v-4h2v4z\"/>\n",
              "    </g>\n",
              "</svg>\n",
              "  </button>\n",
              "\n",
              "<style>\n",
              "  .colab-df-quickchart {\n",
              "      --bg-color: #E8F0FE;\n",
              "      --fill-color: #1967D2;\n",
              "      --hover-bg-color: #E2EBFA;\n",
              "      --hover-fill-color: #174EA6;\n",
              "      --disabled-fill-color: #AAA;\n",
              "      --disabled-bg-color: #DDD;\n",
              "  }\n",
              "\n",
              "  [theme=dark] .colab-df-quickchart {\n",
              "      --bg-color: #3B4455;\n",
              "      --fill-color: #D2E3FC;\n",
              "      --hover-bg-color: #434B5C;\n",
              "      --hover-fill-color: #FFFFFF;\n",
              "      --disabled-bg-color: #3B4455;\n",
              "      --disabled-fill-color: #666;\n",
              "  }\n",
              "\n",
              "  .colab-df-quickchart {\n",
              "    background-color: var(--bg-color);\n",
              "    border: none;\n",
              "    border-radius: 50%;\n",
              "    cursor: pointer;\n",
              "    display: none;\n",
              "    fill: var(--fill-color);\n",
              "    height: 32px;\n",
              "    padding: 0;\n",
              "    width: 32px;\n",
              "  }\n",
              "\n",
              "  .colab-df-quickchart:hover {\n",
              "    background-color: var(--hover-bg-color);\n",
              "    box-shadow: 0 1px 2px rgba(60, 64, 67, 0.3), 0 1px 3px 1px rgba(60, 64, 67, 0.15);\n",
              "    fill: var(--button-hover-fill-color);\n",
              "  }\n",
              "\n",
              "  .colab-df-quickchart-complete:disabled,\n",
              "  .colab-df-quickchart-complete:disabled:hover {\n",
              "    background-color: var(--disabled-bg-color);\n",
              "    fill: var(--disabled-fill-color);\n",
              "    box-shadow: none;\n",
              "  }\n",
              "\n",
              "  .colab-df-spinner {\n",
              "    border: 2px solid var(--fill-color);\n",
              "    border-color: transparent;\n",
              "    border-bottom-color: var(--fill-color);\n",
              "    animation:\n",
              "      spin 1s steps(1) infinite;\n",
              "  }\n",
              "\n",
              "  @keyframes spin {\n",
              "    0% {\n",
              "      border-color: transparent;\n",
              "      border-bottom-color: var(--fill-color);\n",
              "      border-left-color: var(--fill-color);\n",
              "    }\n",
              "    20% {\n",
              "      border-color: transparent;\n",
              "      border-left-color: var(--fill-color);\n",
              "      border-top-color: var(--fill-color);\n",
              "    }\n",
              "    30% {\n",
              "      border-color: transparent;\n",
              "      border-left-color: var(--fill-color);\n",
              "      border-top-color: var(--fill-color);\n",
              "      border-right-color: var(--fill-color);\n",
              "    }\n",
              "    40% {\n",
              "      border-color: transparent;\n",
              "      border-right-color: var(--fill-color);\n",
              "      border-top-color: var(--fill-color);\n",
              "    }\n",
              "    60% {\n",
              "      border-color: transparent;\n",
              "      border-right-color: var(--fill-color);\n",
              "    }\n",
              "    80% {\n",
              "      border-color: transparent;\n",
              "      border-right-color: var(--fill-color);\n",
              "      border-bottom-color: var(--fill-color);\n",
              "    }\n",
              "    90% {\n",
              "      border-color: transparent;\n",
              "      border-bottom-color: var(--fill-color);\n",
              "    }\n",
              "  }\n",
              "</style>\n",
              "\n",
              "  <script>\n",
              "    async function quickchart(key) {\n",
              "      const quickchartButtonEl =\n",
              "        document.querySelector('#' + key + ' button');\n",
              "      quickchartButtonEl.disabled = true;  // To prevent multiple clicks.\n",
              "      quickchartButtonEl.classList.add('colab-df-spinner');\n",
              "      try {\n",
              "        const charts = await google.colab.kernel.invokeFunction(\n",
              "            'suggestCharts', [key], {});\n",
              "      } catch (error) {\n",
              "        console.error('Error during call to suggestCharts:', error);\n",
              "      }\n",
              "      quickchartButtonEl.classList.remove('colab-df-spinner');\n",
              "      quickchartButtonEl.classList.add('colab-df-quickchart-complete');\n",
              "    }\n",
              "    (() => {\n",
              "      let quickchartButtonEl =\n",
              "        document.querySelector('#df-2a06a924-13ed-4ee3-9ecc-e9fbc5fb0fbc button');\n",
              "      quickchartButtonEl.style.display =\n",
              "        google.colab.kernel.accessAllowed ? 'block' : 'none';\n",
              "    })();\n",
              "  </script>\n",
              "</div>\n",
              "\n",
              "    </div>\n",
              "  </div>\n"
            ],
            "application/vnd.google.colaboratory.intrinsic+json": {
              "type": "dataframe",
              "summary": "{\n  \"name\": \"df\",\n  \"rows\": 8,\n  \"fields\": [\n    {\n      \"column\": \"count\",\n      \"properties\": {\n        \"dtype\": \"number\",\n        \"std\": 0.0,\n        \"min\": 209673.0,\n        \"max\": 209673.0,\n        \"num_unique_values\": 1,\n        \"samples\": [\n          209673.0\n        ],\n        \"semantic_type\": \"\",\n        \"description\": \"\"\n      }\n    },\n    {\n      \"column\": \"mean\",\n      \"properties\": {\n        \"dtype\": \"number\",\n        \"std\": 404.52667767651553,\n        \"min\": 0.28052252793635807,\n        \"max\": 1173.181477824994,\n        \"num_unique_values\": 8,\n        \"samples\": [\n          5.054431185703453\n        ],\n        \"semantic_type\": \"\",\n        \"description\": \"\"\n      }\n    },\n    {\n      \"column\": \"std\",\n      \"properties\": {\n        \"dtype\": \"number\",\n        \"std\": 1671.7807680589915,\n        \"min\": 0.4492556085947996,\n        \"max\": 4775.653620868651,\n        \"num_unique_values\": 8,\n        \"samples\": [\n          125.21741931669386\n        ],\n        \"semantic_type\": \"\",\n        \"description\": \"\"\n      }\n    },\n    {\n      \"column\": \"min\",\n      \"properties\": {\n        \"dtype\": \"number\",\n        \"std\": 0.177924542593603,\n        \"min\": -0.5,\n        \"max\": 0.02,\n        \"num_unique_values\": 3,\n        \"samples\": [\n          0.0\n        ],\n        \"semantic_type\": \"\",\n        \"description\": \"\"\n      }\n    },\n    {\n      \"column\": \"25%\",\n      \"properties\": {\n        \"dtype\": \"number\",\n        \"std\": 153.49786047252533,\n        \"min\": 0.0,\n        \"max\": 446.0,\n        \"num_unique_values\": 7,\n        \"samples\": [\n          446.0\n        ],\n        \"semantic_type\": \"\",\n        \"description\": \"\"\n      }\n    },\n    {\n      \"column\": \"50%\",\n      \"properties\": {\n        \"dtype\": \"number\",\n        \"std\": 242.97337146500527,\n        \"min\": 0.0,\n        \"max\": 707.0,\n        \"num_unique_values\": 8,\n        \"samples\": [\n          3.2\n        ],\n        \"semantic_type\": \"\",\n        \"description\": \"\"\n      }\n    },\n    {\n      \"column\": \"75%\",\n      \"properties\": {\n        \"dtype\": \"number\",\n        \"std\": 376.2865744159819,\n        \"min\": 1.0,\n        \"max\": 1098.0,\n        \"num_unique_values\": 7,\n        \"samples\": [\n          1098.0\n        ],\n        \"semantic_type\": \"\",\n        \"description\": \"\"\n      }\n    },\n    {\n      \"column\": \"max\",\n      \"properties\": {\n        \"dtype\": \"number\",\n        \"std\": 33307.8734175722,\n        \"min\": 1.0,\n        \"max\": 86387.0,\n        \"num_unique_values\": 8,\n        \"samples\": [\n          57283.91\n        ],\n        \"semantic_type\": \"\",\n        \"description\": \"\"\n      }\n    }\n  ]\n}"
            }
          },
          "metadata": {},
          "execution_count": 14
        }
      ]
    },
    {
      "cell_type": "markdown",
      "source": [
        "## EDA"
      ],
      "metadata": {
        "id": "7jTN3-DKOWsp"
      }
    },
    {
      "cell_type": "markdown",
      "source": [
        "### Correlations Matrix"
      ],
      "metadata": {
        "id": "ChcBKmj6peRb"
      }
    },
    {
      "cell_type": "code",
      "source": [
        "import matplotlib.pyplot as plt\n",
        "import seaborn as sns\n",
        "# Select only numeric columns\n",
        "numeric_df = df.select_dtypes(include=['number'])\n",
        "\n",
        "# Calculate the correlation matrix\n",
        "correlation_matrix = numeric_df.corr()\n",
        "\n",
        "\n",
        "# Visualize the correlation matrix using a heatmap\n",
        "plt.figure(figsize=(8, 6))\n",
        "sns.heatmap(correlation_matrix, annot=True, cmap='coolwarm', fmt='.2f')\n",
        "plt.title('Correlation Matrix')\n",
        "plt.show()"
      ],
      "metadata": {
        "id": "FOEBpWeENlYD",
        "colab": {
          "base_uri": "https://localhost:8080/",
          "height": 668
        },
        "outputId": "caf15b19-1152-4947-fca9-44af2ffa0bae"
      },
      "execution_count": 15,
      "outputs": [
        {
          "output_type": "display_data",
          "data": {
            "text/plain": [
              "<Figure size 800x600 with 2 Axes>"
            ],
            "image/png": "[encoded data removed]"
          },
          "metadata": {}
        }
      ]
    },
    {
      "cell_type": "markdown",
      "source": [
        "Description"
      ],
      "metadata": {
        "id": "wBfoJrRWpkNl"
      }
    },
    {
      "cell_type": "code",
      "source": [
        "df.describe(include='all').T"
      ],
      "metadata": {
        "id": "mncrx1E9RmGB",
        "colab": {
          "base_uri": "https://localhost:8080/",
          "height": 300
        },
        "outputId": "8557b7ba-d43a-47d6-82bb-0f93cfa6c79f"
      },
      "execution_count": 16,
      "outputs": [
        {
          "output_type": "execute_result",
          "data": {
            "text/plain": [
              "                       count         mean          std   min     25%     50%  \\\n",
              "trip_duration       209673.0  1173.181478  4775.653621  0.00  446.00  707.00   \n",
              "distance_traveled   209673.0     5.054431   125.217419  0.02    1.95    3.20   \n",
              "num_of_passengers   209673.0     1.292808     0.930754  0.00    1.00    1.00   \n",
              "fare                209673.0    99.623431    85.602702  0.00   52.50   75.00   \n",
              "tip                 209673.0    13.030824    20.367764  0.00    0.00    9.00   \n",
              "miscellaneous_fees  209673.0    15.136829    12.553436 -0.50    6.00    9.75   \n",
              "total_fare          209673.0   127.791084    98.797374  0.00   70.20  101.70   \n",
              "surge_applied       209673.0     0.280523     0.449256  0.00    0.00    0.00   \n",
              "\n",
              "                        75%       max  \n",
              "trip_duration       1098.00  86387.00  \n",
              "distance_traveled      5.73  57283.91  \n",
              "num_of_passengers      1.00      9.00  \n",
              "fare                 116.25   4466.25  \n",
              "tip                   20.00   2500.00  \n",
              "miscellaneous_fees    26.45    435.00  \n",
              "total_fare           152.25   4472.25  \n",
              "surge_applied          1.00      1.00  "
            ],
            "text/html": [
              "\n",
              "  <div id=\"df-09d55bac-f8a6-48f7-a3d6-15ec0afdd63f\" class=\"colab-df-container\">\n",
              "    <div>\n",
              "<style scoped>\n",
              "    .dataframe tbody tr th:only-of-type {\n",
              "        vertical-align: middle;\n",
              "    }\n",
              "\n",
              "    .dataframe tbody tr th {\n",
              "        vertical-align: top;\n",
              "    }\n",
              "\n",
              "    .dataframe thead th {\n",
              "        text-align: right;\n",
              "    }\n",
              "</style>\n",
              "<table border=\"1\" class=\"dataframe\">\n",
              "  <thead>\n",
              "    <tr style=\"text-align: right;\">\n",
              "      <th></th>\n",
              "      <th>count</th>\n",
              "      <th>mean</th>\n",
              "      <th>std</th>\n",
              "      <th>min</th>\n",
              "      <th>25%</th>\n",
              "      <th>50%</th>\n",
              "      <th>75%</th>\n",
              "      <th>max</th>\n",
              "    </tr>\n",
              "  </thead>\n",
              "  <tbody>\n",
              "    <tr>\n",
              "      <th>trip_duration</th>\n",
              "      <td>209673.0</td>\n",
              "      <td>1173.181478</td>\n",
              "      <td>4775.653621</td>\n",
              "      <td>0.00</td>\n",
              "      <td>446.00</td>\n",
              "      <td>707.00</td>\n",
              "      <td>1098.00</td>\n",
              "      <td>86387.00</td>\n",
              "    </tr>\n",
              "    <tr>\n",
              "      <th>distance_traveled</th>\n",
              "      <td>209673.0</td>\n",
              "      <td>5.054431</td>\n",
              "      <td>125.217419</td>\n",
              "      <td>0.02</td>\n",
              "      <td>1.95</td>\n",
              "      <td>3.20</td>\n",
              "      <td>5.73</td>\n",
              "      <td>57283.91</td>\n",
              "    </tr>\n",
              "    <tr>\n",
              "      <th>num_of_passengers</th>\n",
              "      <td>209673.0</td>\n",
              "      <td>1.292808</td>\n",
              "      <td>0.930754</td>\n",
              "      <td>0.00</td>\n",
              "      <td>1.00</td>\n",
              "      <td>1.00</td>\n",
              "      <td>1.00</td>\n",
              "      <td>9.00</td>\n",
              "    </tr>\n",
              "    <tr>\n",
              "      <th>fare</th>\n",
              "      <td>209673.0</td>\n",
              "      <td>99.623431</td>\n",
              "      <td>85.602702</td>\n",
              "      <td>0.00</td>\n",
              "      <td>52.50</td>\n",
              "      <td>75.00</td>\n",
              "      <td>116.25</td>\n",
              "      <td>4466.25</td>\n",
              "    </tr>\n",
              "    <tr>\n",
              "      <th>tip</th>\n",
              "      <td>209673.0</td>\n",
              "      <td>13.030824</td>\n",
              "      <td>20.367764</td>\n",
              "      <td>0.00</td>\n",
              "      <td>0.00</td>\n",
              "      <td>9.00</td>\n",
              "      <td>20.00</td>\n",
              "      <td>2500.00</td>\n",
              "    </tr>\n",
              "    <tr>\n",
              "      <th>miscellaneous_fees</th>\n",
              "      <td>209673.0</td>\n",
              "      <td>15.136829</td>\n",
              "      <td>12.553436</td>\n",
              "      <td>-0.50</td>\n",
              "      <td>6.00</td>\n",
              "      <td>9.75</td>\n",
              "      <td>26.45</td>\n",
              "      <td>435.00</td>\n",
              "    </tr>\n",
              "    <tr>\n",
              "      <th>total_fare</th>\n",
              "      <td>209673.0</td>\n",
              "      <td>127.791084</td>\n",
              "      <td>98.797374</td>\n",
              "      <td>0.00</td>\n",
              "      <td>70.20</td>\n",
              "      <td>101.70</td>\n",
              "      <td>152.25</td>\n",
              "      <td>4472.25</td>\n",
              "    </tr>\n",
              "    <tr>\n",
              "      <th>surge_applied</th>\n",
              "      <td>209673.0</td>\n",
              "      <td>0.280523</td>\n",
              "      <td>0.449256</td>\n",
              "      <td>0.00</td>\n",
              "      <td>0.00</td>\n",
              "      <td>0.00</td>\n",
              "      <td>1.00</td>\n",
              "      <td>1.00</td>\n",
              "    </tr>\n",
              "  </tbody>\n",
              "</table>\n",
              "</div>\n",
              "    <div class=\"colab-df-buttons\">\n",
              "\n",
              "  <div class=\"colab-df-container\">\n",
              "    <button class=\"colab-df-convert\" onclick=\"convertToInteractive('df-09d55bac-f8a6-48f7-a3d6-15ec0afdd63f')\"\n",
              "            title=\"Convert this dataframe to an interactive table.\"\n",
              "            style=\"display:none;\">\n",
              "\n",
              "  <svg xmlns=\"http://www.w3.org/2000/svg\" height=\"24px\" viewBox=\"0 -960 960 960\">\n",
              "    <path d=\"M120-120v-720h720v720H120Zm60-500h600v-160H180v160Zm220 220h160v-160H400v160Zm0 220h160v-160H400v160ZM180-400h160v-160H180v160Zm440 0h160v-160H620v160ZM180-180h160v-160H180v160Zm440 0h160v-160H620v160Z\"/>\n",
              "  </svg>\n",
              "    </button>\n",
              "\n",
              "  <style>\n",
              "    .colab-df-container {\n",
              "      display:flex;\n",
              "      gap: 12px;\n",
              "    }\n",
              "\n",
              "    .colab-df-convert {\n",
              "      background-color: #E8F0FE;\n",
              "      border: none;\n",
              "      border-radius: 50%;\n",
              "      cursor: pointer;\n",
              "      display: none;\n",
              "      fill: #1967D2;\n",
              "      height: 32px;\n",
              "      padding: 0 0 0 0;\n",
              "      width: 32px;\n",
              "    }\n",
              "\n",
              "    .colab-df-convert:hover {\n",
              "      background-color: #E2EBFA;\n",
              "      box-shadow: 0px 1px 2px rgba(60, 64, 67, 0.3), 0px 1px 3px 1px rgba(60, 64, 67, 0.15);\n",
              "      fill: #174EA6;\n",
              "    }\n",
              "\n",
              "    .colab-df-buttons div {\n",
              "      margin-bottom: 4px;\n",
              "    }\n",
              "\n",
              "    [theme=dark] .colab-df-convert {\n",
              "      background-color: #3B4455;\n",
              "      fill: #D2E3FC;\n",
              "    }\n",
              "\n",
              "    [theme=dark] .colab-df-convert:hover {\n",
              "      background-color: #434B5C;\n",
              "      box-shadow: 0px 1px 3px 1px rgba(0, 0, 0, 0.15);\n",
              "      filter: drop-shadow(0px 1px 2px rgba(0, 0, 0, 0.3));\n",
              "      fill: #FFFFFF;\n",
              "    }\n",
              "  </style>\n",
              "\n",
              "    <script>\n",
              "      const buttonEl =\n",
              "        document.querySelector('#df-09d55bac-f8a6-48f7-a3d6-15ec0afdd63f button.colab-df-convert');\n",
              "      buttonEl.style.display =\n",
              "        google.colab.kernel.accessAllowed ? 'block' : 'none';\n",
              "\n",
              "      async function convertToInteractive(key) {\n",
              "        const element = document.querySelector('#df-09d55bac-f8a6-48f7-a3d6-15ec0afdd63f');\n",
              "        const dataTable =\n",
              "          await google.colab.kernel.invokeFunction('convertToInteractive',\n",
              "                                                    [key], {});\n",
              "        if (!dataTable) return;\n",
              "\n",
              "        const docLinkHtml = 'Like what you see? Visit the ' +\n",
              "          '<a target=\"_blank\" href=https://colab.research.google.com/notebooks/data_table.ipynb>data table notebook</a>'\n",
              "          + ' to learn more about interactive tables.';\n",
              "        element.innerHTML = '';\n",
              "        dataTable['output_type'] = 'display_data';\n",
              "        await google.colab.output.renderOutput(dataTable, element);\n",
              "        const docLink = document.createElement('div');\n",
              "        docLink.innerHTML = docLinkHtml;\n",
              "        element.appendChild(docLink);\n",
              "      }\n",
              "    </script>\n",
              "  </div>\n",
              "\n",
              "\n",
              "<div id=\"df-309e2402-f276-408b-9bf8-e38830bb0b12\">\n",
              "  <button class=\"colab-df-quickchart\" onclick=\"quickchart('df-309e2402-f276-408b-9bf8-e38830bb0b12')\"\n",
              "            title=\"Suggest charts\"\n",
              "            style=\"display:none;\">\n",
              "\n",
              "<svg xmlns=\"http://www.w3.org/2000/svg\" height=\"24px\"viewBox=\"0 0 24 24\"\n",
              "     width=\"24px\">\n",
              "    <g>\n",
              "        <path d=\"M19 3H5c-1.1 0-2 .9-2 2v14c0 1.1.9 2 2 2h14c1.1 0 2-.9 2-2V5c0-1.1-.9-2-2-2zM9 17H7v-7h2v7zm4 0h-2V7h2v10zm4 0h-2v-4h2v4z\"/>\n",
              "    </g>\n",
              "</svg>\n",
              "  </button>\n",
              "\n",
              "<style>\n",
              "  .colab-df-quickchart {\n",
              "      --bg-color: #E8F0FE;\n",
              "      --fill-color: #1967D2;\n",
              "      --hover-bg-color: #E2EBFA;\n",
              "      --hover-fill-color: #174EA6;\n",
              "      --disabled-fill-color: #AAA;\n",
              "      --disabled-bg-color: #DDD;\n",
              "  }\n",
              "\n",
              "  [theme=dark] .colab-df-quickchart {\n",
              "      --bg-color: #3B4455;\n",
              "      --fill-color: #D2E3FC;\n",
              "      --hover-bg-color: #434B5C;\n",
              "      --hover-fill-color: #FFFFFF;\n",
              "      --disabled-bg-color: #3B4455;\n",
              "      --disabled-fill-color: #666;\n",
              "  }\n",
              "\n",
              "  .colab-df-quickchart {\n",
              "    background-color: var(--bg-color);\n",
              "    border: none;\n",
              "    border-radius: 50%;\n",
              "    cursor: pointer;\n",
              "    display: none;\n",
              "    fill: var(--fill-color);\n",
              "    height: 32px;\n",
              "    padding: 0;\n",
              "    width: 32px;\n",
              "  }\n",
              "\n",
              "  .colab-df-quickchart:hover {\n",
              "    background-color: var(--hover-bg-color);\n",
              "    box-shadow: 0 1px 2px rgba(60, 64, 67, 0.3), 0 1px 3px 1px rgba(60, 64, 67, 0.15);\n",
              "    fill: var(--button-hover-fill-color);\n",
              "  }\n",
              "\n",
              "  .colab-df-quickchart-complete:disabled,\n",
              "  .colab-df-quickchart-complete:disabled:hover {\n",
              "    background-color: var(--disabled-bg-color);\n",
              "    fill: var(--disabled-fill-color);\n",
              "    box-shadow: none;\n",
              "  }\n",
              "\n",
              "  .colab-df-spinner {\n",
              "    border: 2px solid var(--fill-color);\n",
              "    border-color: transparent;\n",
              "    border-bottom-color: var(--fill-color);\n",
              "    animation:\n",
              "      spin 1s steps(1) infinite;\n",
              "  }\n",
              "\n",
              "  @keyframes spin {\n",
              "    0% {\n",
              "      border-color: transparent;\n",
              "      border-bottom-color: var(--fill-color);\n",
              "      border-left-color: var(--fill-color);\n",
              "    }\n",
              "    20% {\n",
              "      border-color: transparent;\n",
              "      border-left-color: var(--fill-color);\n",
              "      border-top-color: var(--fill-color);\n",
              "    }\n",
              "    30% {\n",
              "      border-color: transparent;\n",
              "      border-left-color: var(--fill-color);\n",
              "      border-top-color: var(--fill-color);\n",
              "      border-right-color: var(--fill-color);\n",
              "    }\n",
              "    40% {\n",
              "      border-color: transparent;\n",
              "      border-right-color: var(--fill-color);\n",
              "      border-top-color: var(--fill-color);\n",
              "    }\n",
              "    60% {\n",
              "      border-color: transparent;\n",
              "      border-right-color: var(--fill-color);\n",
              "    }\n",
              "    80% {\n",
              "      border-color: transparent;\n",
              "      border-right-color: var(--fill-color);\n",
              "      border-bottom-color: var(--fill-color);\n",
              "    }\n",
              "    90% {\n",
              "      border-color: transparent;\n",
              "      border-bottom-color: var(--fill-color);\n",
              "    }\n",
              "  }\n",
              "</style>\n",
              "\n",
              "  <script>\n",
              "    async function quickchart(key) {\n",
              "      const quickchartButtonEl =\n",
              "        document.querySelector('#' + key + ' button');\n",
              "      quickchartButtonEl.disabled = true;  // To prevent multiple clicks.\n",
              "      quickchartButtonEl.classList.add('colab-df-spinner');\n",
              "      try {\n",
              "        const charts = await google.colab.kernel.invokeFunction(\n",
              "            'suggestCharts', [key], {});\n",
              "      } catch (error) {\n",
              "        console.error('Error during call to suggestCharts:', error);\n",
              "      }\n",
              "      quickchartButtonEl.classList.remove('colab-df-spinner');\n",
              "      quickchartButtonEl.classList.add('colab-df-quickchart-complete');\n",
              "    }\n",
              "    (() => {\n",
              "      let quickchartButtonEl =\n",
              "        document.querySelector('#df-309e2402-f276-408b-9bf8-e38830bb0b12 button');\n",
              "      quickchartButtonEl.style.display =\n",
              "        google.colab.kernel.accessAllowed ? 'block' : 'none';\n",
              "    })();\n",
              "  </script>\n",
              "</div>\n",
              "\n",
              "    </div>\n",
              "  </div>\n"
            ],
            "application/vnd.google.colaboratory.intrinsic+json": {
              "type": "dataframe",
              "summary": "{\n  \"name\": \"df\",\n  \"rows\": 8,\n  \"fields\": [\n    {\n      \"column\": \"count\",\n      \"properties\": {\n        \"dtype\": \"number\",\n        \"std\": 0.0,\n        \"min\": 209673.0,\n        \"max\": 209673.0,\n        \"num_unique_values\": 1,\n        \"samples\": [\n          209673.0\n        ],\n        \"semantic_type\": \"\",\n        \"description\": \"\"\n      }\n    },\n    {\n      \"column\": \"mean\",\n      \"properties\": {\n        \"dtype\": \"number\",\n        \"std\": 404.52667767651553,\n        \"min\": 0.28052252793635807,\n        \"max\": 1173.181477824994,\n        \"num_unique_values\": 8,\n        \"samples\": [\n          5.054431185703453\n        ],\n        \"semantic_type\": \"\",\n        \"description\": \"\"\n      }\n    },\n    {\n      \"column\": \"std\",\n      \"properties\": {\n        \"dtype\": \"number\",\n        \"std\": 1671.7807680589915,\n        \"min\": 0.4492556085947996,\n        \"max\": 4775.653620868651,\n        \"num_unique_values\": 8,\n        \"samples\": [\n          125.21741931669386\n        ],\n        \"semantic_type\": \"\",\n        \"description\": \"\"\n      }\n    },\n    {\n      \"column\": \"min\",\n      \"properties\": {\n        \"dtype\": \"number\",\n        \"std\": 0.177924542593603,\n        \"min\": -0.5,\n        \"max\": 0.02,\n        \"num_unique_values\": 3,\n        \"samples\": [\n          0.0\n        ],\n        \"semantic_type\": \"\",\n        \"description\": \"\"\n      }\n    },\n    {\n      \"column\": \"25%\",\n      \"properties\": {\n        \"dtype\": \"number\",\n        \"std\": 153.49786047252533,\n        \"min\": 0.0,\n        \"max\": 446.0,\n        \"num_unique_values\": 7,\n        \"samples\": [\n          446.0\n        ],\n        \"semantic_type\": \"\",\n        \"description\": \"\"\n      }\n    },\n    {\n      \"column\": \"50%\",\n      \"properties\": {\n        \"dtype\": \"number\",\n        \"std\": 242.97337146500527,\n        \"min\": 0.0,\n        \"max\": 707.0,\n        \"num_unique_values\": 8,\n        \"samples\": [\n          3.2\n        ],\n        \"semantic_type\": \"\",\n        \"description\": \"\"\n      }\n    },\n    {\n      \"column\": \"75%\",\n      \"properties\": {\n        \"dtype\": \"number\",\n        \"std\": 376.2865744159819,\n        \"min\": 1.0,\n        \"max\": 1098.0,\n        \"num_unique_values\": 7,\n        \"samples\": [\n          1098.0\n        ],\n        \"semantic_type\": \"\",\n        \"description\": \"\"\n      }\n    },\n    {\n      \"column\": \"max\",\n      \"properties\": {\n        \"dtype\": \"number\",\n        \"std\": 33307.8734175722,\n        \"min\": 1.0,\n        \"max\": 86387.0,\n        \"num_unique_values\": 8,\n        \"samples\": [\n          57283.91\n        ],\n        \"semantic_type\": \"\",\n        \"description\": \"\"\n      }\n    }\n  ]\n}"
            }
          },
          "metadata": {},
          "execution_count": 16
        }
      ]
    },
    {
      "cell_type": "markdown",
      "source": [
        "### Histograms"
      ],
      "metadata": {
        "id": "aQ17QOzBpoek"
      }
    },
    {
      "cell_type": "code",
      "source": [
        "# Number of columns\n",
        "num_cols = len(df.columns)\n",
        "\n",
        "# Calculate grid size for subplots\n",
        "rows = (num_cols // 4) + 1  # Adjust this as per your layout preference (4 columns per row)\n",
        "cols = min(num_cols, 4)\n",
        "\n",
        "# Create subplots\n",
        "fig, axs = plt.subplots(rows, cols, figsize=(15, 8))\n",
        "\n",
        "# Flatten the axes array for easy iteration\n",
        "axs = axs.flatten()\n",
        "\n",
        "# Plot each column's histogram\n",
        "index = 0\n",
        "for col_name, col_data in df.items():\n",
        "    sns.histplot(col_data, ax=axs[index], kde=True, stat='density', linewidth=0)\n",
        "    axs[index].set_title(col_name)\n",
        "    index += 1\n",
        "\n",
        "# Remove any extra axes\n",
        "for ax in axs[index:]:\n",
        "    ax.remove()\n",
        "\n",
        "plt.tight_layout(pad=0.4, w_pad=0.5, h_pad=5.0)\n",
        "plt.show()"
      ],
      "metadata": {
        "id": "l_lA2xwERM3i"
      },
      "execution_count": null,
      "outputs": []
    },
    {
      "cell_type": "code",
      "source": [],
      "metadata": {
        "id": "S2W8oXFp1ZK5"
      },
      "execution_count": null,
      "outputs": []
    },
    {
      "cell_type": "code",
      "source": [
        "sns.pairplot(data=df,hue='surge_applied')\n",
        "plt.show()"
      ],
      "metadata": {
        "id": "gll-3xbf8l8d"
      },
      "execution_count": null,
      "outputs": []
    },
    {
      "cell_type": "markdown",
      "source": [
        "## Separate features and the target\n",
        "This code separates the features (independent variables) and the target (dependent variable) from the dataset df:\n",
        "\n",
        "X contains all the features of the dataset except for the price.\n",
        "y contains only the price column, which is what you're trying to predict."
      ],
      "metadata": {
        "id": "o7H6QhNg4eMQ"
      }
    },
    {
      "cell_type": "code",
      "source": [
        "y = df['surge_applied']\n",
        "X = df.drop('surge_applied',axis=1)"
      ],
      "metadata": {
        "id": "-krs-vFg3gjE"
      },
      "execution_count": null,
      "outputs": []
    }
  ],
  "metadata": {
    "colab": {
      "provenance": [],
      "mount_file_id": "1eQdL1LEkxzlu3xtS0eyUBcMOBKcp8nRw",
      "authorship_tag": "ABX9TyO0B7kT7HNfm0vqBuTgekCC",
      "include_colab_link": true
    },
    "kernelspec": {
      "display_name": "Python 3",
      "name": "python3"
    },
    "language_info": {
      "name": "python"
    }
  },
  "nbformat": 4,
  "nbformat_minor": 0
}